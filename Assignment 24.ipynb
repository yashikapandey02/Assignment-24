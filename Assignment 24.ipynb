{
 "cells": [
  {
   "cell_type": "code",
   "execution_count": null,
   "id": "1932985f",
   "metadata": {},
   "outputs": [],
   "source": [
    "1. What is the relationship between def statements and lambda expressions ?"
   ]
  },
  {
   "cell_type": "code",
   "execution_count": null,
   "id": "fc40cddf",
   "metadata": {},
   "outputs": [],
   "source": [
    "Ans: As an expression, lambda returns a value that can optionally be assigned a name. \n",
    "    In contrast, the def statement always assigns the new function to the name in the header, \n",
    "    instead of returning is as a result. lambda's body is a single expression, not a block of statements"
   ]
  },
  {
   "cell_type": "code",
   "execution_count": null,
   "id": "b9453d10",
   "metadata": {},
   "outputs": [],
   "source": [
    "2.What is the benefit of lambda?"
   ]
  },
  {
   "cell_type": "code",
   "execution_count": null,
   "id": "66ccdd52",
   "metadata": {},
   "outputs": [],
   "source": [
    "Ans:The lambda keyword in Python provides a shortcut for declaring small anonymous functions. \n",
    "    Lambda functions behave just like regular functions declared with the def keyword. \n",
    "    They can be used whenever function objects are required."
   ]
  },
  {
   "cell_type": "code",
   "execution_count": null,
   "id": "a653ef8b",
   "metadata": {},
   "outputs": [],
   "source": [
    "3.Compare and contrast map, filter, and reduce."
   ]
  },
  {
   "cell_type": "code",
   "execution_count": null,
   "id": "b083799c",
   "metadata": {},
   "outputs": [],
   "source": [
    "Ans:Map operation takes a mapping function and a vector of data as arguments and returns a new vector, which is the result of applying the mapping function on each element of the vector independently. The returned value from map() (map object) then can be passed to functions like list() (to create a list), set() (to create a set) and so on.\n",
    "\n",
    "The filter function operates on a list and returns a subset of that list after applying the filtering rule.\n",
    "\n",
    "The reduce function will transform a given list into a single value by applying a given function continuously to all the elements. It basically keeps operating on pairs of elements until there are no more elements left."
   ]
  },
  {
   "cell_type": "code",
   "execution_count": null,
   "id": "3fc42f89",
   "metadata": {},
   "outputs": [],
   "source": [
    "4.What are function annotations, and how are they used?"
   ]
  },
  {
   "cell_type": "code",
   "execution_count": null,
   "id": "5bbb67af",
   "metadata": {},
   "outputs": [],
   "source": [
    "Ans:Function annotations are completely optional both for parameters and return value. Function annotations provide a way of associating various parts of a function with arbitrary python expressions at compile time.\n",
    "\n",
    "Syntax of function annotations for simple parameters and for excess parameters respectively:\n",
    "\n",
    "def foobar(a: expression, b: expression = 5):\n",
    "\n",
    "def foobar(args: expression, kwargs: expression):"
   ]
  },
  {
   "cell_type": "code",
   "execution_count": null,
   "id": "ad2ef34f",
   "metadata": {},
   "outputs": [],
   "source": [
    "5.What are recursive functions, and how are they used?"
   ]
  },
  {
   "cell_type": "code",
   "execution_count": null,
   "id": "9b196cc6",
   "metadata": {},
   "outputs": [],
   "source": [
    "Ans:Recursive functions are functions that call themselves within their definition. They are used in programming to solve problems that can be broken down into smaller and smaller sub-problems until they can be solved easily. Recursive functions can be used to implement complex algorithms in a concise and efficient manner, and are especially useful for working with data structures like trees, graphs, and linked lists.\n",
    "\n",
    "Recursive functions are defined by a base case and a recursive case.The base case is the simplest case of the problem that can be solved directly without recursion. The recursive case is the case where the function calls itself with a smaller version of the problem until it reaches the base case."
   ]
  },
  {
   "cell_type": "code",
   "execution_count": 2,
   "id": "d586fc6d",
   "metadata": {},
   "outputs": [],
   "source": [
    "def tri_recursion(k):\n",
    "  if k > 0:\n",
    "    result = k + tri_recursion(k-1)"
   ]
  },
  {
   "cell_type": "code",
   "execution_count": null,
   "id": "8e162845",
   "metadata": {},
   "outputs": [],
   "source": [
    "6.What are some general design guidelines for coding functions?"
   ]
  },
  {
   "cell_type": "code",
   "execution_count": null,
   "id": "0aea032f",
   "metadata": {},
   "outputs": [],
   "source": [
    "Ans:Use 4-space indentation and no tabs.\n",
    "\n",
    "Use docstrings\n",
    "\n",
    "Wrap lines so that they don’t exceed 79 characters\n",
    "\n",
    "Use of regular and updated comments are valuable to both the coders and users"
   ]
  },
  {
   "cell_type": "code",
   "execution_count": null,
   "id": "b25bb005",
   "metadata": {},
   "outputs": [],
   "source": [
    "7.Name three or more ways that functions can communicate results to a caller."
   ]
  },
  {
   "cell_type": "code",
   "execution_count": null,
   "id": "72c2b713",
   "metadata": {},
   "outputs": [],
   "source": [
    "Ans:To call a function, we specify the function name with the round brackets.\n",
    "\n",
    "Use of return keyword inside function which returns the results to the caller.\n",
    "\n",
    "Use of print statement inside function which prints the results to the caller."
   ]
  }
 ],
 "metadata": {
  "kernelspec": {
   "display_name": "Python 3 (ipykernel)",
   "language": "python",
   "name": "python3"
  },
  "language_info": {
   "codemirror_mode": {
    "name": "ipython",
    "version": 3
   },
   "file_extension": ".py",
   "mimetype": "text/x-python",
   "name": "python",
   "nbconvert_exporter": "python",
   "pygments_lexer": "ipython3",
   "version": "3.9.7"
  }
 },
 "nbformat": 4,
 "nbformat_minor": 5
}
